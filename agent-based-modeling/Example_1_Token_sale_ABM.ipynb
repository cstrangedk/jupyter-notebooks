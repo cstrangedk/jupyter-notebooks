{
 "cells": [
  {
   "cell_type": "markdown",
   "metadata": {},
   "source": [
    "### An example of agent-based modeling of token economics.\n",
    "Ripped from: https://crowdforangels.com/pdf/Agent-Based-Model.pdf"
   ]
  },
  {
   "cell_type": "code",
   "execution_count": 61,
   "metadata": {},
   "outputs": [
    {
     "name": "stdout",
     "output_type": "stream",
     "text": [
      "The autoreload extension is already loaded. To reload it, use:\n",
      "  %reload_ext autoreload\n",
      "The version_information extension is already loaded. To reload it, use:\n",
      "  %reload_ext version_information\n"
     ]
    },
    {
     "data": {
      "application/json": {
       "Software versions": [
        {
         "module": "Python",
         "version": "3.6.5 64bit [GCC 4.2.1 Compatible Apple LLVM 9.0.0 (clang-900.0.39.2)]"
        },
        {
         "module": "IPython",
         "version": "6.2.1"
        },
        {
         "module": "OS",
         "version": "Darwin 16.7.0 x86_64 i386 64bit"
        },
        {
         "module": "numpy",
         "version": "1.13.3"
        },
        {
         "module": "pandas",
         "version": "0.21.0"
        },
        {
         "module": "matplotlib",
         "version": "2.1.0"
        }
       ]
      },
      "text/html": [
       "<table><tr><th>Software</th><th>Version</th></tr><tr><td>Python</td><td>3.6.5 64bit [GCC 4.2.1 Compatible Apple LLVM 9.0.0 (clang-900.0.39.2)]</td></tr><tr><td>IPython</td><td>6.2.1</td></tr><tr><td>OS</td><td>Darwin 16.7.0 x86_64 i386 64bit</td></tr><tr><td>numpy</td><td>1.13.3</td></tr><tr><td>pandas</td><td>0.21.0</td></tr><tr><td>matplotlib</td><td>2.1.0</td></tr><tr><td colspan='2'>Mon Apr 23 11:27:22 2018 PDT</td></tr></table>"
      ],
      "text/latex": [
       "\\begin{tabular}{|l|l|}\\hline\n",
       "{\\bf Software} & {\\bf Version} \\\\ \\hline\\hline\n",
       "Python & 3.6.5 64bit [GCC 4.2.1 Compatible Apple LLVM 9.0.0 (clang-900.0.39.2)] \\\\ \\hline\n",
       "IPython & 6.2.1 \\\\ \\hline\n",
       "OS & Darwin 16.7.0 x86\\_64 i386 64bit \\\\ \\hline\n",
       "numpy & 1.13.3 \\\\ \\hline\n",
       "pandas & 0.21.0 \\\\ \\hline\n",
       "matplotlib & 2.1.0 \\\\ \\hline\n",
       "\\hline \\multicolumn{2}{|l|}{Mon Apr 23 11:27:22 2018 PDT} \\\\ \\hline\n",
       "\\end{tabular}\n"
      ],
      "text/plain": [
       "Software versions\n",
       "Python 3.6.5 64bit [GCC 4.2.1 Compatible Apple LLVM 9.0.0 (clang-900.0.39.2)]\n",
       "IPython 6.2.1\n",
       "OS Darwin 16.7.0 x86_64 i386 64bit\n",
       "numpy 1.13.3\n",
       "pandas 0.21.0\n",
       "matplotlib 2.1.0\n",
       "Mon Apr 23 11:27:22 2018 PDT"
      ]
     },
     "execution_count": 61,
     "metadata": {},
     "output_type": "execute_result"
    }
   ],
   "source": [
    "%matplotlib inline\n",
    "%load_ext autoreload\n",
    "%autoreload 2\n",
    "%load_ext version_information\n",
    "%version_information numpy, pandas, matplotlib"
   ]
  },
  {
   "cell_type": "code",
   "execution_count": 32,
   "metadata": {},
   "outputs": [],
   "source": [
    "import numpy as np\n",
    "import pandas as pd\n",
    "import matplotlib.pyplot as plt"
   ]
  },
  {
   "cell_type": "code",
   "execution_count": 33,
   "metadata": {},
   "outputs": [],
   "source": [
    "n_users = 1500\n",
    "\n",
    "# Exchange rate\n",
    "token_to_usd = 0.01\n",
    "\n",
    "# Rate company must pay back in fees (in USD)\n",
    "rate_usd = 0.01\n",
    "active_users_percentage = 0.1"
   ]
  },
  {
   "cell_type": "code",
   "execution_count": 34,
   "metadata": {},
   "outputs": [],
   "source": [
    "def user_lottery(users_starting, amount):\n",
    "    k = True\n",
    "    users=users_starting.copy()\n",
    "    \n",
    "    while k:\n",
    "        winner = np.random.randint(0, len(users))\n",
    "        \n",
    "        if users[winner] >= amount:\n",
    "            users[winner] = users[winner]-amount\n",
    "            k = False\n",
    "        else:\n",
    "            amount = amount - users[winner]\n",
    "            users[winner] = 0\n",
    "    \n",
    "    return users"
   ]
  },
  {
   "cell_type": "code",
   "execution_count": 51,
   "metadata": {},
   "outputs": [],
   "source": [
    "def run_sim(users_tokens, companies_round, token_to_usd, rate_usd, active_users_percentage = active_users_percentage, noise_chance = 0.01):\n",
    "    initial_users = users_tokens.copy()\n",
    "    iteration = 0\n",
    "    rates = []\n",
    "    for company in companies_round:\n",
    "        if np.random.rand() < noise_chance:\n",
    "            dummy = token_to_usd + np.random.normal(token_to_usd, token_to_usd / 1) * np.sign(np.random.normal())\n",
    "#             print(dummy)\n",
    "            if dummy > 0.01:\n",
    "                token_to_usd = dummy\n",
    "        usd_required = rate_usd * company\n",
    "        tokens_required = usd_required / token_to_usd\n",
    "            \n",
    "        indices = np.random.permutation(len(users_tokens))\n",
    "        indices = indices[:int(len(users_tokens)*active_users_percentage)]\n",
    "        active_users = users_tokens[indices]\n",
    "            \n",
    "        if tokens_required > active_users.sum():\n",
    "            if active_users.sum() == 0.0:\n",
    "                active_users = users_tokens\n",
    "                indices = np.arange(0, len(users_tokens))\n",
    "                    \n",
    "            token_to_usd = usd_required / active_users.sum()\n",
    "            tokens_required = usd_requred / token_to_usd\n",
    "        else:\n",
    "            active_users = user_lottery(active_users, tokens_required)\n",
    "            users_tokens[indices] = active_users\n",
    "            \n",
    "        iteration += 1\n",
    "        rates.append(token_to_usd)\n",
    "            \n",
    "    profit = (initial_users - users_tokens) * token_to_usd\n",
    "        \n",
    "    return initial_users, users_tokens, profit, token_to_usd, rates"
   ]
  },
  {
   "cell_type": "code",
   "execution_count": 52,
   "metadata": {},
   "outputs": [],
   "source": [
    "profits = []\n",
    "users = []\n",
    "pti = []\n",
    "rates = []\n",
    "rates_h = []\n",
    "for i in range(0,1000):\n",
    "#     print('running iteration :'+str(i))\n",
    "    k=np.random.power(0.1,n_users)*95000+5000\n",
    "    users_tokens_initial = k*95\n",
    "    companies_y1 = [250000]*100+[500000]*30+[1000000]*10\n",
    "    companies_y2 = [250000]*120+[500000]*40+[1000000]*13+[2000000]*1\n",
    "    companies_y3 = [250000.0]*150+[500000.0]*65+[1000000]*18+[2000000]*12\n",
    "    companies_y4 = [250000]*200+[500000]*100+[1000000]*52+[2000000]*20\n",
    "    companies_y5 = [250000]*600+[500000]*400+[1000000]*200+[2000000]*125"
   ]
  },
  {
   "cell_type": "code",
   "execution_count": 53,
   "metadata": {},
   "outputs": [],
   "source": [
    "companies_round = np.array(companies_y1 + companies_y2 + companies_y3 + companies_y4 + companies_y5)\n",
    "initial_users, users_tokens, profit, final_token_to_usd, rates_history = run_sim(users_tokens_initial.copy(), companies_round, token_to_usd, rate_usd, active_users_percentage = active_users_percentage)"
   ]
  },
  {
   "cell_type": "code",
   "execution_count": 54,
   "metadata": {},
   "outputs": [
    {
     "name": "stdout",
     "output_type": "stream",
     "text": [
      "\n",
      "Initial token distribution among users\n",
      "[ 475042.14652947  764262.12896655  475023.68831861 ...,  530455.67448169\n",
      "  654672.29745271  584884.38015351]\n"
     ]
    }
   ],
   "source": [
    "profits.append(profit)\n",
    "print(\"\\nInitial token distribution among users\")\n",
    "print(initial_users)"
   ]
  },
  {
   "cell_type": "code",
   "execution_count": 55,
   "metadata": {},
   "outputs": [
    {
     "name": "stdout",
     "output_type": "stream",
     "text": [
      "\n",
      "Final token distribution after 2256 investment rounds\n",
      "[      0.               0.               0.         ...,  530455.67448169\n",
      "  356482.73080352  578444.97782529]\n"
     ]
    }
   ],
   "source": [
    "print(\"\\nFinal token distribution after {0} investment rounds\".format(len(companies_round)))\n",
    "print(users_tokens)\n",
    "users.append(users_tokens_initial)"
   ]
  },
  {
   "cell_type": "code",
   "execution_count": 56,
   "metadata": {},
   "outputs": [
    {
     "name": "stdout",
     "output_type": "stream",
     "text": [
      "\n",
      "Total profit per user in USD is [  7628252.98309544  12272563.40884334   7627956.58012774 ...,         0.\n",
      "   4788344.50361454    103404.27765918]\n",
      "\n",
      "Average profit is 3985846.52016\n"
     ]
    }
   ],
   "source": [
    "print(\"\\nTotal profit per user in USD is \" +str(profit))\n",
    "print(\"\\nAverage profit is \" +str(np.mean(profit)))"
   ]
  },
  {
   "cell_type": "code",
   "execution_count": 57,
   "metadata": {},
   "outputs": [],
   "source": [
    "profit_to_initial = profit / users_tokens_initial\n",
    "pti.append(profit_to_initial)"
   ]
  },
  {
   "cell_type": "code",
   "execution_count": 58,
   "metadata": {},
   "outputs": [
    {
     "name": "stdout",
     "output_type": "stream",
     "text": [
      "\n",
      "Final rate is 16.0580551406\n"
     ]
    }
   ],
   "source": [
    "print(\"\\nFinal rate is \"+str(final_token_to_usd))\n",
    "rates.append(final_token_to_usd)"
   ]
  },
  {
   "cell_type": "code",
   "execution_count": 59,
   "metadata": {},
   "outputs": [],
   "source": [
    "rates_h.append(rates_history)"
   ]
  },
  {
   "cell_type": "code",
   "execution_count": 60,
   "metadata": {},
   "outputs": [
    {
     "data": {
      "text/plain": [
       "Text(0,0.5,'value in USD')"
      ]
     },
     "execution_count": 60,
     "metadata": {},
     "output_type": "execute_result"
    },
    {
     "data": {
      "image/png": "[encoded data removed]",
      "text/plain": [
       "<matplotlib.figure.Figure at 0x10bdc86a0>"
      ]
     },
     "metadata": {},
     "output_type": "display_data"
    }
   ],
   "source": [
    "k = pd.DataFrame(rates_h)\n",
    "k.median().plot()\n",
    "plt.xlabel('events')\n",
    "plt.ylabel('value in USD')"
   ]
  },
  {
   "cell_type": "code",
   "execution_count": null,
   "metadata": {},
   "outputs": [],
   "source": []
  }
 ],
 "metadata": {
  "kernelspec": {
   "display_name": "Python 3",
   "language": "python",
   "name": "python3"
  },
  "language_info": {
   "codemirror_mode": {
    "name": "ipython",
    "version": 3
   },
   "file_extension": ".py",
   "mimetype": "text/x-python",
   "name": "python",
   "nbconvert_exporter": "python",
   "pygments_lexer": "ipython3",
   "version": "3.6.5"
  }
 },
 "nbformat": 4,
 "nbformat_minor": 2
}
